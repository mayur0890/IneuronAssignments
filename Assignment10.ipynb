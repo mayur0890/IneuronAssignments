{
 "cells": [
  {
   "cell_type": "code",
   "execution_count": null,
   "id": "2491d8ca",
   "metadata": {},
   "outputs": [],
   "source": [
    "#1. How do you distinguish between shutil.copy() and shutil.copytree()?\n",
    "#ans shutil.copy() will copy a single file, shutil.copytree() will copy an entire folder and every folder and file contained in it"
   ]
  },
  {
   "cell_type": "code",
   "execution_count": 46,
   "id": "1ffa8d00",
   "metadata": {},
   "outputs": [],
   "source": [
    "#2. What function is used to rename files??\n",
    "#ans os.rename() and shutil.move() either of these function can be used to rename files."
   ]
  },
  {
   "cell_type": "code",
   "execution_count": 47,
   "id": "b6124831",
   "metadata": {},
   "outputs": [],
   "source": [
    "#3. What is the difference between the delete functions in the send2trash and shutil modules?\n",
    "#ans The send2trash functions will move a file or folder to the recycle bin, while shutil functions will permanently delete files and folders."
   ]
  },
  {
   "cell_type": "code",
   "execution_count": 48,
   "id": "4a4a9fb2",
   "metadata": {},
   "outputs": [],
   "source": [
    "#4.ZipFile objects have a close() method just like File objects’ close() method. What ZipFile method is equivalent to File objects’ open() method?\n",
    "#ans The zipfile. ZipFile() function is equivalent to the open() function"
   ]
  },
  {
   "cell_type": "code",
   "execution_count": null,
   "id": "74137311",
   "metadata": {},
   "outputs": [],
   "source": [
    "#5. Create a programme that searches a folder tree for files with a certain file extension (such as .pdf or .jpg). Copy these files from whatever location they are in to a new folder.\n",
    "#ans \n",
    "import os,shutil\n",
    "current_dir_path=\".\"\n",
    "destination_path=\"C:\\\\Users\\\\I1182\\\\Desktop\\\\dest_folder\"\n",
    "extensions=[\"pdf\",\"csv\",\"rtf\",\"txt\"]\n",
    "for path,dirs,file in os.walk(current_dir_path):\n",
    "    if len(file)>0:\n",
    "        for f in file:\n",
    "            if len(f.split(\".\"))>1 and f.split(\".\")[1] in extensions :\n",
    "                file_path=os.path.join(path,f)\n",
    "                shutil.move(file_path,destination_path)"
   ]
  }
 ],
 "metadata": {
  "kernelspec": {
   "display_name": "Python 3 (ipykernel)",
   "language": "python",
   "name": "python3"
  },
  "language_info": {
   "codemirror_mode": {
    "name": "ipython",
    "version": 3
   },
   "file_extension": ".py",
   "mimetype": "text/x-python",
   "name": "python",
   "nbconvert_exporter": "python",
   "pygments_lexer": "ipython3",
   "version": "3.10.3"
  }
 },
 "nbformat": 4,
 "nbformat_minor": 5
}
