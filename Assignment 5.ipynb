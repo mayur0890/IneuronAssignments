{
 "cells": [
  {
   "cell_type": "code",
   "execution_count": 1,
   "id": "2d45e834",
   "metadata": {},
   "outputs": [],
   "source": [
    "#1. What does an empty dictionary's code look like?\n",
    "#ans we can initailize an empty dictionary by\n",
    "# a={}\n",
    "# a=dict()"
   ]
  },
  {
   "cell_type": "code",
   "execution_count": 3,
   "id": "3621fe08",
   "metadata": {},
   "outputs": [],
   "source": [
    "#2. What is the value of a dictionary value with the key \"foo\" and the value 42?\n",
    "#ans 42"
   ]
  },
  {
   "cell_type": "code",
   "execution_count": 4,
   "id": "e5df51b2",
   "metadata": {},
   "outputs": [],
   "source": [
    "#3 What is the most significant distinction between a dictionary and a list?\n",
    "#ans a list has a default index for every element which is not present physically within the list and \n",
    "# we need to use the index in order to access the list elements whereas\n",
    "# A dictionary has a value for every key we give and we can access that value with the help of that key."
   ]
  },
  {
   "cell_type": "code",
   "execution_count": 8,
   "id": "ed2f9e57",
   "metadata": {},
   "outputs": [],
   "source": [
    "#4. What happens if you try to access spam[\"foo\"] if spam is {\"bar\": 100}?\n",
    "#ans Output will throw Key error"
   ]
  },
  {
   "cell_type": "code",
   "execution_count": 16,
   "id": "6670365e",
   "metadata": {},
   "outputs": [],
   "source": [
    "#5. If a dictionary is stored in spam, what is the difference between the expressions \"cat\" in spam and \"cat\" in spam.keys()?\n",
    "#ans \"cat\" in spam will return true if \"cat\" is a key in spam and false if not.\n",
    "# In the same way \"cat\" in spam.keys() will return true/false in the list of keys of spam returned by spam.keys()."
   ]
  },
  {
   "cell_type": "code",
   "execution_count": 42,
   "id": "96364638",
   "metadata": {},
   "outputs": [],
   "source": [
    "#6. If a dictionary is stored in spam, what is the difference between the expressions \"cat\" in spam and \"cat\" in spam.values()?\n",
    "#ans \"cat\" in spam will return true if \"cat\" is a key in spam and false if not.\n",
    "# In the same way \"cat\" in spam.keys() will return true/false in the list of values of spam returned by spam.keys()."
   ]
  },
  {
   "cell_type": "code",
   "execution_count": 43,
   "id": "a5feeddd",
   "metadata": {},
   "outputs": [],
   "source": [
    "#7. What is a shortcut for the following code?\n",
    "# if \"color\" not in spam:\n",
    "# spam[\"color\"] = \"black\"\n",
    "#ans spam.setdefault(\"color\",\"black\")"
   ]
  },
  {
   "cell_type": "code",
   "execution_count": 44,
   "id": "9acc3509",
   "metadata": {},
   "outputs": [],
   "source": [
    "#8. How do you \"pretty print\" dictionary values using which module and function?\n",
    "# we consider a dictionary spam. \n",
    "# pprint module has a function pprint which makes complex data structure and does not print them in a single line as print command does.\n",
    "# import pprint\n",
    "# pprint.pprint(spam)"
   ]
  }
 ],
 "metadata": {
  "kernelspec": {
   "display_name": "Python 3 (ipykernel)",
   "language": "python",
   "name": "python3"
  },
  "language_info": {
   "codemirror_mode": {
    "name": "ipython",
    "version": 3
   },
   "file_extension": ".py",
   "mimetype": "text/x-python",
   "name": "python",
   "nbconvert_exporter": "python",
   "pygments_lexer": "ipython3",
   "version": "3.9.7"
  }
 },
 "nbformat": 4,
 "nbformat_minor": 5
}
