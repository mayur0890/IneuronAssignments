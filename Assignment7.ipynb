{
 "cells": [
  {
   "cell_type": "code",
   "execution_count": null,
   "id": "7584db57",
   "metadata": {},
   "outputs": [],
   "source": [
    "#1. What is the name of the feature responsible for generating Regex objects?\n",
    "#ans we have re module in python by importing which we can generate regex objects as per our requirement."
   ]
  },
  {
   "cell_type": "code",
   "execution_count": null,
   "id": "770f3252",
   "metadata": {},
   "outputs": [],
   "source": [
    "#2. Why do raw strings often appear in Regex objects?\n",
    "#ans Raw string are generally used to skip escaping of backslashes otherwise we'll have to escape backslash everytime they are used within a string."
   ]
  },
  {
   "cell_type": "code",
   "execution_count": null,
   "id": "0011c904",
   "metadata": {},
   "outputs": [],
   "source": [
    "#3. What is the return value of the search() method?\n",
    "#ans search() method returns a string."
   ]
  },
  {
   "cell_type": "code",
   "execution_count": 2,
   "id": "f6971454",
   "metadata": {},
   "outputs": [],
   "source": [
    "#4.From a Match item, how do you get the actual strings that match the pattern?\n",
    "#ans Filter out that pattern by using group methodology."
   ]
  },
  {
   "cell_type": "code",
   "execution_count": 1,
   "id": "ec56a0b8",
   "metadata": {},
   "outputs": [],
   "source": [
    "#5. In the regex which created from the r'(\\d\\d\\d)-(\\d\\d\\d-\\d\\d\\d\\d)', what does group zero cover?Group 2? Group 1?\n",
    "#ans group zero - full match\n",
    "#    group 1- 3 digits\n",
    "#    group 2 - 3digits-4digits"
   ]
  },
  {
   "cell_type": "code",
   "execution_count": 24,
   "id": "e40cbd8a",
   "metadata": {},
   "outputs": [],
   "source": [
    "#7. The findall() method returns a string list or a list of string tuples. What causes it to return one of the two options?\n",
    "#ans the regex to find a pattern makes this to happen."
   ]
  },
  {
   "cell_type": "code",
   "execution_count": 16,
   "id": "030e16cf",
   "metadata": {},
   "outputs": [],
   "source": [
    "#8 In standard expressions, what does the | character mean?\n",
    "#ans This means either or which is used to search any of the mentioned pattern within a string"
   ]
  },
  {
   "cell_type": "code",
   "execution_count": 25,
   "id": "65dfcf1f",
   "metadata": {},
   "outputs": [],
   "source": [
    "#9. In regular expressions, what does the character stand for?\n",
    "#ans . is used to represent any charater within the search"
   ]
  },
  {
   "cell_type": "code",
   "execution_count": 27,
   "id": "54005e87",
   "metadata": {},
   "outputs": [],
   "source": [
    "#10.In regular expressions, what is the difference between the + and * characters?\n",
    "#ans + means either 1 or more occurances whereas * means 0 or more occurances."
   ]
  },
  {
   "cell_type": "code",
   "execution_count": 28,
   "id": "75ac6f90",
   "metadata": {},
   "outputs": [],
   "source": [
    "#11. What is the difference between {4} and {4,5} in regular expression?\n",
    "#ans {4} specifies 4 occurances whereas {4,5} specifies from 4 occurances to 5 occurances."
   ]
  },
  {
   "cell_type": "code",
   "execution_count": 29,
   "id": "51fde5e0",
   "metadata": {},
   "outputs": [],
   "source": [
    "#12. What do you mean by the \\d, \\w, and \\s shorthand character classes signify in regular expressions?\n",
    "#ans \\d Returns a match where the string contains digits (numbers from 0-9)\t\n",
    "#    \\w the string contains characters from a to Z, digits from 0-9, and the underscore _ character\n",
    "#    \\s the string contains a white space character"
   ]
  },
  {
   "cell_type": "code",
   "execution_count": 30,
   "id": "2417998c",
   "metadata": {},
   "outputs": [],
   "source": [
    "#13. What do means by \\D, \\W, and \\S shorthand character classes signify in regular expressions?\n",
    "#ans \\D Returns a match where the string DOES NOT contain digits\n",
    "#    \\W the string DOES NOT contain any word characters\n",
    "#    \\S the string DOES NOT contain a white space character"
   ]
  },
  {
   "cell_type": "code",
   "execution_count": 31,
   "id": "b8ec8c20",
   "metadata": {},
   "outputs": [],
   "source": [
    "#14. What is the difference between .*? and .*?\n",
    "#ans No difference"
   ]
  },
  {
   "cell_type": "code",
   "execution_count": 32,
   "id": "5d361942",
   "metadata": {},
   "outputs": [],
   "source": [
    "#15. What is the syntax for matching both numbers and lowercase letters with a character class?\n",
    "#ans [a-z0-9]"
   ]
  },
  {
   "cell_type": "code",
   "execution_count": 33,
   "id": "ef199bd5",
   "metadata": {},
   "outputs": [],
   "source": [
    "#16. What is the procedure for making a normal expression in regax case insensitive?\n",
    "#ans Pass re.IGNORECASE to the flags param of search, match, or sub."
   ]
  },
  {
   "cell_type": "code",
   "execution_count": 34,
   "id": "8363a8b2",
   "metadata": {},
   "outputs": [],
   "source": [
    "#17.What does the . character normally match? What does it match if re.DOTALL is passed as 2nd argument in re.compile()?\n",
    "#ans . character matches any character except new line character. when it passed as 2nd argument, it matches the newline character apart from other characters"
   ]
  },
  {
   "cell_type": "code",
   "execution_count": 40,
   "id": "4d6c4bfa",
   "metadata": {},
   "outputs": [],
   "source": [
    "#18 If numRegex = re.compile(r'\\d+'), what willnumRegex.sub('X', '11 drummers, 10 pipers, five rings, 4 hen') return?\n",
    "#ans 'X drummers, X pipers, five rings, X hen'"
   ]
  },
  {
   "cell_type": "code",
   "execution_count": 38,
   "id": "aaf9b955",
   "metadata": {},
   "outputs": [],
   "source": [
    "#19 What does passing re.VERBOSE as the 2nd argument to re.compile() allow to do?\n",
    "#ans This flag allows you to write regular expressions that look nicer and are more readable by allowing you to visually separate logical sections of the pattern and add comments."
   ]
  },
  {
   "cell_type": "code",
   "execution_count": 39,
   "id": "00ff05a6",
   "metadata": {},
   "outputs": [
    {
     "data": {
      "text/plain": [
       "'X drummers, X pipers, five rings, X hen'"
      ]
     },
     "execution_count": 39,
     "metadata": {},
     "output_type": "execute_result"
    }
   ],
   "source": [
    "#20 "
   ]
  },
  {
   "cell_type": "code",
   "execution_count": null,
   "id": "6009ad23",
   "metadata": {},
   "outputs": [],
   "source": []
  }
 ],
 "metadata": {
  "kernelspec": {
   "display_name": "Python 3 (ipykernel)",
   "language": "python",
   "name": "python3"
  },
  "language_info": {
   "codemirror_mode": {
    "name": "ipython",
    "version": 3
   },
   "file_extension": ".py",
   "mimetype": "text/x-python",
   "name": "python",
   "nbconvert_exporter": "python",
   "pygments_lexer": "ipython3",
   "version": "3.10.3"
  }
 },
 "nbformat": 4,
 "nbformat_minor": 5
}
