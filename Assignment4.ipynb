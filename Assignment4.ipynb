{
 "cells": [
  {
   "cell_type": "code",
   "execution_count": null,
   "id": "7c39c566",
   "metadata": {},
   "outputs": [],
   "source": [
    "#1. What exactly is []?\n",
    "#ans An empty list"
   ]
  },
  {
   "cell_type": "code",
   "execution_count": 11,
   "id": "fdc6deb6",
   "metadata": {},
   "outputs": [],
   "source": [
    "#2. In a list of values stored in a variable called spam, how would you assign the value 'hello' as the third value? \n",
    "# (Assume [2, 4, 6, 8, 10] are in spam.)\n",
    "spam=[2,4,6,8,10]\n",
    "spam[2]='hello'"
   ]
  },
  {
   "cell_type": "code",
   "execution_count": 7,
   "id": "feab9595",
   "metadata": {},
   "outputs": [
    {
     "data": {
      "text/plain": [
       "'33'"
      ]
     },
     "execution_count": 7,
     "metadata": {},
     "output_type": "execute_result"
    }
   ],
   "source": [
    "#3. What is the value of spam[int(int('3' * 2) / 11)]? \n",
    "spam=['a','b','c','d']\n",
    "#ans 'd'"
   ]
  },
  {
   "cell_type": "code",
   "execution_count": 13,
   "id": "5b326e7e",
   "metadata": {},
   "outputs": [],
   "source": [
    "#4. What is the value of spam[-1]?\n",
    "#ans 'd'"
   ]
  },
  {
   "cell_type": "code",
   "execution_count": 15,
   "id": "cc5b50c4",
   "metadata": {},
   "outputs": [],
   "source": [
    "#5. What is the value of spam[:2]?\n",
    "#ans ['a','b']"
   ]
  },
  {
   "cell_type": "code",
   "execution_count": 28,
   "id": "6e7333f4",
   "metadata": {},
   "outputs": [],
   "source": [
    "bacon=[3.14,'cat',11,'cat',True]\n",
    "#6.What is the value of bacon.index('cat')?\n",
    "#ans 1"
   ]
  },
  {
   "cell_type": "code",
   "execution_count": 29,
   "id": "41d81103",
   "metadata": {},
   "outputs": [],
   "source": [
    "#7. How does bacon.append(99) change the look of the list value in bacon?\n",
    "#ans [3.14, 'cat', 11, 'cat', True, 99] adds 99 into the list with the add[index+1] of the last element."
   ]
  },
  {
   "cell_type": "code",
   "execution_count": 30,
   "id": "352393de",
   "metadata": {},
   "outputs": [],
   "source": [
    "#8. How does bacon.remove('cat') change the look of the list in bacon?\n",
    "#ans [3.14, 11, 'cat', True]. This removes first occurence of string cat in the list"
   ]
  },
  {
   "cell_type": "code",
   "execution_count": 31,
   "id": "95d58666",
   "metadata": {},
   "outputs": [],
   "source": [
    "#9. What are the list concatenation and list replication operators?\n",
    "#ans List concatenation(i.e. +) joins the 2 or more strings whereas list replication operators repeats the string as many time the integer value entered."
   ]
  },
  {
   "cell_type": "code",
   "execution_count": 41,
   "id": "d4f97a0e",
   "metadata": {},
   "outputs": [],
   "source": [
    "#10. What is difference between the list methods append() and insert()?\n",
    "#ans append() method adds a new element to te list whereas insert() method adds an element to a particular index"
   ]
  },
  {
   "cell_type": "code",
   "execution_count": 42,
   "id": "55ea83e9",
   "metadata": {},
   "outputs": [],
   "source": [
    "#11. What are the two methods for removing items from a list?\n",
    "#ans pop() and remove() are the two methods."
   ]
  },
  {
   "cell_type": "code",
   "execution_count": 43,
   "id": "10be9d74",
   "metadata": {},
   "outputs": [],
   "source": [
    "#12. Describe how list values and string values are identical.\n",
    "#ans list values and string values are both sequential."
   ]
  },
  {
   "cell_type": "code",
   "execution_count": 44,
   "id": "7d914cc4",
   "metadata": {},
   "outputs": [],
   "source": [
    "#13. What's the difference between tuples and lists?\n",
    "#ans Tuples are immutable as lists are mutable."
   ]
  },
  {
   "cell_type": "code",
   "execution_count": 45,
   "id": "8de4218c",
   "metadata": {},
   "outputs": [],
   "source": [
    "#14. How do you type a tuple value that only contains the integer 42?\n",
    "#ans not able to undersand the ques."
   ]
  },
  {
   "cell_type": "code",
   "execution_count": 12,
   "id": "25304b73",
   "metadata": {},
   "outputs": [
    {
     "data": {
      "text/plain": [
       "[1, 'sudh', 3, 4, 5]"
      ]
     },
     "execution_count": 12,
     "metadata": {},
     "output_type": "execute_result"
    }
   ],
   "source": [
    "#15. How do you get a list value's tuple form? How do you get a tuple value's list form?\n",
    "l=[1,\"sudh\",3,4,5]\n",
    "a=tuple(l)\n",
    "#a is of type tuple\n",
    "list(a)"
   ]
  },
  {
   "cell_type": "code",
   "execution_count": 15,
   "id": "fb3bfa9b",
   "metadata": {},
   "outputs": [],
   "source": [
    "#16. Variables that \"contain\" list values are not necessarily lists themselves. Instead, what do they contain?\n",
    "#ans The variable contain the data in its original data type"
   ]
  },
  {
   "cell_type": "code",
   "execution_count": null,
   "id": "71c6d573",
   "metadata": {},
   "outputs": [],
   "source": [
    "#17. How do you distinguish between copy.copy() and copy.deepcopy()?(\n",
    "#ans copy.copy() gives you a shallow copy and has the same id of the copied variable whereas copy.deepcopy()  "
   ]
  }
 ],
 "metadata": {
  "kernelspec": {
   "display_name": "Python 3 (ipykernel)",
   "language": "python",
   "name": "python3"
  },
  "language_info": {
   "codemirror_mode": {
    "name": "ipython",
    "version": 3
   },
   "file_extension": ".py",
   "mimetype": "text/x-python",
   "name": "python",
   "nbconvert_exporter": "python",
   "pygments_lexer": "ipython3",
   "version": "3.9.7"
  }
 },
 "nbformat": 4,
 "nbformat_minor": 5
}
