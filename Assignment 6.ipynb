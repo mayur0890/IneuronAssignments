{
 "cells": [
  {
   "cell_type": "code",
   "execution_count": 2,
   "id": "49a31364",
   "metadata": {},
   "outputs": [],
   "source": [
    "#1. What are escape characters, and how do you use them?\n",
    "#ans If we want to insert characters that are illegal within an string then we use escape characters.\n",
    "# for example==> an escape character is a backslash \\ which is followed by the character we use in the string. \n",
    "#other ex ==> \\n,\\\\,\\t"
   ]
  },
  {
   "cell_type": "code",
   "execution_count": 3,
   "id": "fe826732",
   "metadata": {},
   "outputs": [],
   "source": [
    "#2. What do the escape characters n and t stand for?\n",
    "#ans \\n is used for new line and \\t is used for tabular space"
   ]
  },
  {
   "cell_type": "code",
   "execution_count": 27,
   "id": "e1d44160",
   "metadata": {},
   "outputs": [],
   "source": [
    "#3. What is the way to include backslash characters in a string?\n",
    "#ans we need to use two times backslashes the no of backslash character we want to print within a string.\n",
    "# print(\"here is a \\\\\\\\\") this will print 2 backslash characters."
   ]
  },
  {
   "cell_type": "code",
   "execution_count": 28,
   "id": "3c55d997",
   "metadata": {},
   "outputs": [],
   "source": [
    "#4. The string \"Howl's Moving Castle\" is a correct value. Why isn't the single quote character in the word Howl's not escaped a problem?\n",
    "#ans Because we have used double quotes to enclose the whole string."
   ]
  },
  {
   "cell_type": "code",
   "execution_count": 33,
   "id": "daeb68e2",
   "metadata": {},
   "outputs": [],
   "source": [
    "#5. How do you write a string of newlines if you don't want to use the n character?\n",
    "#ans we can enclose our string in triple quotes if we want that string to get printed in the same manner as mentioned"
   ]
  },
  {
   "cell_type": "code",
   "execution_count": null,
   "id": "7a608aaf",
   "metadata": {},
   "outputs": [],
   "source": [
    "#6. 6. What are the values of the given expressions?\n",
    "#'Hello, world!'[1] ==> 'e'\n",
    "#'Hello, world!'[0:5] ==> 'Hello'\n",
    "#'Hello, world!'[:5] ==> 'Hello'\n",
    "#'Hello, world!'[3:] ==> 'lo, world!'"
   ]
  },
  {
   "cell_type": "code",
   "execution_count": null,
   "id": "911254d2",
   "metadata": {},
   "outputs": [],
   "source": [
    "#7. What are the values of the following expressions?\n",
    "#'Hello'.upper() ==> 'HELLO'\n",
    "#'Hello'.upper().isupper() ==> True\n",
    "#'Hello'.upper().lower() ==> 'hello'"
   ]
  },
  {
   "cell_type": "code",
   "execution_count": 46,
   "id": "0c24cfa2",
   "metadata": {},
   "outputs": [],
   "source": [
    "#8. What are the values of the following expressions?\n",
    "#'Remember, remember, the fifth of July.'.split()\n",
    "#'-'.join('There can only one.'.split())\n",
    "#ans \n",
    "# ['Remember,', 'remember,', 'the', 'fifth', 'of', 'July.']\n",
    "# 'There-can-only-one.'"
   ]
  },
  {
   "cell_type": "code",
   "execution_count": 47,
   "id": "2e2fd48d",
   "metadata": {},
   "outputs": [],
   "source": [
    "#9. What are the methods for right-justifying, left-justifying, and centering a string\n",
    "#ans a=\"mayur\"\n",
    "#for right ==> a.rjust(10)\n",
    "#for left ==> a.ljust(10)\n",
    "#for center ==> a.center(10)\n"
   ]
  },
  {
   "cell_type": "code",
   "execution_count": 56,
   "id": "9e12ae40",
   "metadata": {},
   "outputs": [],
   "source": [
    "#10. What is the best way to remove whitespace characters from the start or end?\n",
    "#ans a=\"   hi mayur  \"\n",
    "# a.strip()"
   ]
  }
 ],
 "metadata": {
  "kernelspec": {
   "display_name": "Python 3 (ipykernel)",
   "language": "python",
   "name": "python3"
  },
  "language_info": {
   "codemirror_mode": {
    "name": "ipython",
    "version": 3
   },
   "file_extension": ".py",
   "mimetype": "text/x-python",
   "name": "python",
   "nbconvert_exporter": "python",
   "pygments_lexer": "ipython3",
   "version": "3.9.7"
  }
 },
 "nbformat": 4,
 "nbformat_minor": 5
}
