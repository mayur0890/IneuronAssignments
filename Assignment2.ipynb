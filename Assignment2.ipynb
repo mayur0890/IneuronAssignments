{
 "cells": [
  {
   "cell_type": "code",
   "execution_count": 1,
   "id": "8dfe5a3b",
   "metadata": {},
   "outputs": [],
   "source": [
    "#1.What are the two values of the Boolean data type? How do you write them?\n",
    "#ans Boolean data type has value as true and false. way pf writing ==> True , False "
   ]
  },
  {
   "cell_type": "code",
   "execution_count": null,
   "id": "fb835d27",
   "metadata": {},
   "outputs": [],
   "source": [
    "#2. What are the three different types of Boolean operators?\n",
    "#ans AND,OR and NOT"
   ]
  },
  {
   "cell_type": "code",
   "execution_count": null,
   "id": "56177cf6",
   "metadata": {},
   "outputs": [],
   "source": [
    "#3.Make a list of each Boolean operator's truth table\n",
    "#ans \n",
    "#AND operation ==> if either of the two operands are false then output is false else true.\n",
    "#OR operation ==> if either of the two operands are true then output is true else false.\n",
    "#NOT operation ==> if input is true, output is false and vice versa.\n",
    "#==========================TRUTH TABLE====================================================\n",
    "#       AND                        OR                            NOT\n",
    "#      =====                      ====                          =====  \n",
    "#     inputs       o/p           inputs       o/p          input         o/p\n",
    "#  False  False   False       False  False   False        \n",
    "#  False  True    False       False  True    True          True         False\n",
    "#  True  False    False       True  False    True          False        True\n",
    "#  True  True     True        True  True     True"
   ]
  },
  {
   "cell_type": "code",
   "execution_count": null,
   "id": "89418438",
   "metadata": {},
   "outputs": [],
   "source": [
    "#4.What are the values of the following expressions?\n",
    "(5 > 4) and (3 == 5) =====================>  False\n",
    "not (5 > 4)  =============================>  False\n",
    "(5 > 4) or (3 == 5) ======================>  True\n",
    "not ((5 > 4) or (3 == 5)) ================>  False\n",
    "(True and True) and (True == False) ======>  False\n",
    "(not False) or (not True) ================>  True"
   ]
  },
  {
   "cell_type": "code",
   "execution_count": null,
   "id": "513b97e6",
   "metadata": {},
   "outputs": [],
   "source": [
    "#5. What are the six comparison operators?\n",
    "#ans > , < , == , != , <= , >= "
   ]
  },
  {
   "cell_type": "code",
   "execution_count": 4,
   "id": "04c19838",
   "metadata": {},
   "outputs": [],
   "source": [
    "#6. How do you tell the difference between the equal to and assignment operators?Describe a condition and when you would use one.\n",
    "#ans equal to(==) is used to check whether two operands are equal(return true if equal) whereas \n",
    "# assignment operator is used to assign data to a variable.\n",
    "# for ex. a = 4 is assignment operator where 4 int value is assigned to a variable whereas \n",
    "# 4==5 will compare and check the equality and therefore will return false as 4 is not equal to 5."
   ]
  },
  {
   "cell_type": "code",
   "execution_count": 9,
   "id": "dbd2bbfe",
   "metadata": {},
   "outputs": [],
   "source": [
    "#7. Identify the three blocks in this code:\n",
    "#ans I think i am unable to understand question correctly but still answering\n",
    "# o/p\n",
    "# ham\n",
    "# spam\n",
    "# spam\n"
   ]
  },
  {
   "cell_type": "code",
   "execution_count": 8,
   "id": "483d9807",
   "metadata": {},
   "outputs": [
    {
     "name": "stdout",
     "output_type": "stream",
     "text": [
      "Enter a no. please:3\n",
      "Greetings!\n"
     ]
    }
   ],
   "source": [
    "#8.Write code that prints Hello if 1 is stored in spam, prints Howdy if 2 is stored in spam, and prints\n",
    "Greetings! if anything else is stored in spam.\n",
    "spam=int(input(\"Enter a no. please:\"))\n",
    "if spam==1:\n",
    "    print(\"HELLO\")\n",
    "elif spam==2:\n",
    "    print(\"HOWDY\")\n",
    "else :\n",
    "    print (\"Greetings!\")"
   ]
  },
  {
   "cell_type": "code",
   "execution_count": 10,
   "id": "46edc871",
   "metadata": {},
   "outputs": [],
   "source": [
    "#9. If your programme is stuck in an endless loop, what keys you’ll press?\n",
    "#ans CTRL + c"
   ]
  },
  {
   "cell_type": "code",
   "execution_count": 11,
   "id": "1508258f",
   "metadata": {},
   "outputs": [],
   "source": [
    "#10. How can you tell the difference between break and continue?\n",
    "#ans break keyword when used breaks the loop and comes out of the loop block whereas \n",
    "#  continue statement is used to skip a part of the loop block and redirects again back to the starting of the loop."
   ]
  },
  {
   "cell_type": "code",
   "execution_count": 12,
   "id": "49d555d2",
   "metadata": {},
   "outputs": [],
   "source": [
    "#11. In a for loop, what is the difference between range(10), range(0, 10), and range(0, 10, 1)?\n",
    "#ans all three range serve same purpose."
   ]
  },
  {
   "cell_type": "code",
   "execution_count": 20,
   "id": "80fd690b",
   "metadata": {},
   "outputs": [
    {
     "name": "stdout",
     "output_type": "stream",
     "text": [
      "Using for Loop\n",
      "1\n",
      "2\n",
      "3\n",
      "4\n",
      "5\n",
      "6\n",
      "7\n",
      "8\n",
      "9\n",
      "10\n",
      "Using while Loop\n",
      "1\n",
      "2\n",
      "3\n",
      "4\n",
      "5\n",
      "6\n",
      "7\n",
      "8\n",
      "9\n",
      "10\n"
     ]
    }
   ],
   "source": [
    "#12. Write a short program that prints the numbers 1 to 10 using a for loop. Then write an equivalent program that prints the numbers 1 to 10 using a while loop.\n",
    "print(\"Using for Loop\")\n",
    "for i in range(1,11):\n",
    "    print(i)\n",
    "\n",
    "print(\"Using while Loop\")\n",
    "a=1\n",
    "while a<=10:\n",
    "    print(a)\n",
    "    a+=1"
   ]
  },
  {
   "cell_type": "code",
   "execution_count": null,
   "id": "fb673336",
   "metadata": {},
   "outputs": [],
   "source": [
    "#13. If you had a function named bacon() inside a module named spam, how would you call it after importing spam?\n",
    "#ans spam.bacon()"
   ]
  }
 ],
 "metadata": {
  "kernelspec": {
   "display_name": "Python 3 (ipykernel)",
   "language": "python",
   "name": "python3"
  },
  "language_info": {
   "codemirror_mode": {
    "name": "ipython",
    "version": 3
   },
   "file_extension": ".py",
   "mimetype": "text/x-python",
   "name": "python",
   "nbconvert_exporter": "python",
   "pygments_lexer": "ipython3",
   "version": "3.9.7"
  }
 },
 "nbformat": 4,
 "nbformat_minor": 5
}
