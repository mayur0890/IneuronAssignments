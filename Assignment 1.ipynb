{
 "cells": [
  {
   "cell_type": "code",
   "execution_count": 1,
   "id": "d6259424",
   "metadata": {},
   "outputs": [],
   "source": [
    "Please remove # to make anything run as a command\n",
    "#1.In the below elements which of them are values or an expression?\n",
    "\n",
    "* expr\n",
    "'hello' value\n",
    "-87.8 value\n",
    "- exp\n",
    "/ exp\n",
    "+ exp\n",
    "6 value\n"
   ]
  },
  {
   "cell_type": "code",
   "execution_count": null,
   "id": "3c19abc8",
   "metadata": {},
   "outputs": [],
   "source": [
    "#2.what is the difference b/w variable and string?\n",
    "#ans A variable is a name pointing to a memory location allocated to store data whereas string is one of the data type which can be stored within a variable."
   ]
  },
  {
   "cell_type": "code",
   "execution_count": null,
   "id": "ca578a09",
   "metadata": {},
   "outputs": [],
   "source": [
    "#3. Describe three different data type\n",
    "#ans The three type of data type are:\n",
    "#string  ==> a number or an alphabet or collection of these when stored in a variable as string object. (written in quotes while storing. ex a='mayur123' will store mayur123 as string in a\n",
    "#integer ==> Integers are number comprising of negative no,zero or positive no\n",
    "#complex no ==> combined of 2 parts real and imaginary. (5 + 7j)"
   ]
  },
  {
   "cell_type": "code",
   "execution_count": null,
   "id": "902d6d0d",
   "metadata": {},
   "outputs": [],
   "source": [
    "#4 What is an expression made up of? What do all expressions do?\n",
    "#ans an expression consists of operands and operators(arithmatical,logical, etc) to perform operation over data as per requirement."
   ]
  },
  {
   "cell_type": "code",
   "execution_count": null,
   "id": "ed09429f",
   "metadata": {},
   "outputs": [],
   "source": [
    "#5 This assignment statements, like spam = 10. What is the difference between an expression and a statement?\n",
    "#ans An expression has the ability to give new values or say output where as statements don't return anything new."
   ]
  },
  {
   "cell_type": "code",
   "execution_count": 6,
   "id": "6e560fcd",
   "metadata": {},
   "outputs": [],
   "source": [
    "#6 After running the following code, what does the variable bacon contain? bacon = 22\n",
    "#bacon + 1\n",
    "22"
   ]
  },
  {
   "cell_type": "code",
   "execution_count": 7,
   "id": "9f0e16a6",
   "metadata": {},
   "outputs": [
    {
     "data": {
      "text/plain": [
       "'spamspamspam'"
      ]
     },
     "execution_count": 7,
     "metadata": {},
     "output_type": "execute_result"
    }
   ],
   "source": [
    "#7 What should the values of the following two terms be?\n",
    "#'spam'+'spamspam'\n",
    "#'spam'*3\n",
    "#ans 'spamspamspam'\n"
   ]
  },
  {
   "cell_type": "code",
   "execution_count": 8,
   "id": "29ec2121",
   "metadata": {},
   "outputs": [],
   "source": [
    "#8 Why is eggs a valid variable name while 100 is invalid?\n",
    "#ans a variable cannot start wih a number"
   ]
  },
  {
   "cell_type": "code",
   "execution_count": 18,
   "id": "0f47f866",
   "metadata": {},
   "outputs": [],
   "source": [
    "#9 What three functions can be used to get the integer, floating-point number, or string version of a value?\n",
    "#ans a=int(3)\n",
    "#ans b=float(3)\n",
    "#ans c=str(3)"
   ]
  },
  {
   "cell_type": "code",
   "execution_count": null,
   "id": "d4b6e9f0",
   "metadata": {},
   "outputs": [],
   "source": [
    "#10 Why does this expression cause an error? How can you fix it? 'I have eaten' + 99 + 'burritos'.\n",
    "#ans 'I have eaten' + '99' + 'burritos'"
   ]
  }
 ],
 "metadata": {
  "kernelspec": {
   "display_name": "Python 3 (ipykernel)",
   "language": "python",
   "name": "python3"
  },
  "language_info": {
   "codemirror_mode": {
    "name": "ipython",
    "version": 3
   },
   "file_extension": ".py",
   "mimetype": "text/x-python",
   "name": "python",
   "nbconvert_exporter": "python",
   "pygments_lexer": "ipython3",
   "version": "3.9.7"
  }
 },
 "nbformat": 4,
 "nbformat_minor": 5
}
