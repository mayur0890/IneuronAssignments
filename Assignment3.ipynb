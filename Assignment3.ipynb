{
 "cells": [
  {
   "cell_type": "code",
   "execution_count": null,
   "id": "d5976bf4",
   "metadata": {},
   "outputs": [],
   "source": [
    "#1. Why are functions advantageous to have in your programs?\n",
    "#ans Functions is a piece of code which can be used again and again throughout a program."
   ]
  },
  {
   "cell_type": "code",
   "execution_count": null,
   "id": "3062e4cf",
   "metadata": {},
   "outputs": [],
   "source": [
    "#2.When does the code in a function run: when its specified or when its called?\n",
    "#ans If function is defined and not called then the code in a function(definition) won't run. \n",
    "# Therefore function calling actually runs the code in a function."
   ]
  },
  {
   "cell_type": "code",
   "execution_count": null,
   "id": "5894cb29",
   "metadata": {},
   "outputs": [],
   "source": [
    "#3.What statement creates a function?\n",
    "#ans def"
   ]
  },
  {
   "cell_type": "code",
   "execution_count": null,
   "id": "b452e280",
   "metadata": {},
   "outputs": [],
   "source": [
    "#4, What is the difference between a function and a function call?\n",
    "#ans Functions is a piece of code which can be used again and again throughout a program. A Function has a 2 main parts:\n",
    "# function definition which contains the code for execution called as function body. \n",
    "# function calling which is used to execute the code written within a function definition or function body."
   ]
  },
  {
   "cell_type": "code",
   "execution_count": null,
   "id": "1d4fbf18",
   "metadata": {},
   "outputs": [],
   "source": [
    "#5. How many global scopes are there in a Python program? How many local scopes?\n",
    "#ans One Global and one local scope"
   ]
  },
  {
   "cell_type": "code",
   "execution_count": 1,
   "id": "97d45b56",
   "metadata": {},
   "outputs": [],
   "source": [
    "#6. What happens to variables in a local scope when the function call returns?\n",
    "#ans The variable exists no longer in the main program once the function call returns."
   ]
  },
  {
   "cell_type": "code",
   "execution_count": 2,
   "id": "90494bf4",
   "metadata": {},
   "outputs": [],
   "source": [
    "#7. What is the concept of a return value? Is it possible to have a return value in an expression?\n",
    "#ans if we want to save or use the output of an expression within a function rather than just printing it we can use return.\n",
    "# Yes it is possible to return value in an expression by calling that function."
   ]
  },
  {
   "cell_type": "code",
   "execution_count": 3,
   "id": "2cf57158",
   "metadata": {},
   "outputs": [],
   "source": [
    "#8. If a function does not have a return statement, what is the return value of a call to that function?\n",
    "#ans It returns nothing to the function call."
   ]
  },
  {
   "cell_type": "code",
   "execution_count": 9,
   "id": "3c344e5e",
   "metadata": {},
   "outputs": [
    {
     "name": "stdout",
     "output_type": "stream",
     "text": [
      "In Func 100\n",
      "Outside Func 100\n"
     ]
    }
   ],
   "source": [
    "#9. How do you make a function variable refer to the global variable?\n",
    "#ans by using a statement (global variable name) within the function body i.e.\n",
    "a=10\n",
    "def func():\n",
    "    global a\n",
    "    a=100\n",
    "    print(\"In Func\",a)\n",
    "    \n",
    "func()\n",
    "print(\"Outside Func\",a)"
   ]
  },
  {
   "cell_type": "code",
   "execution_count": null,
   "id": "58ddfa9b",
   "metadata": {},
   "outputs": [],
   "source": [
    "#10. What is the data type of None?\n",
    "#ans None is of data type of class NoneType object which refers to a data of empty state."
   ]
  },
  {
   "cell_type": "code",
   "execution_count": null,
   "id": "aba7b85a",
   "metadata": {},
   "outputs": [],
   "source": [
    "#11. What does the sentence import areallyourpetsnamederic do?\n",
    "#ans TBD"
   ]
  },
  {
   "cell_type": "code",
   "execution_count": null,
   "id": "51a09f0d",
   "metadata": {},
   "outputs": [],
   "source": [
    "#12. If you had a bacon() feature in a spam module, what would you call it after importing spam?\n",
    "#ans spam.bacon()"
   ]
  },
  {
   "cell_type": "code",
   "execution_count": null,
   "id": "28f4e5e3",
   "metadata": {},
   "outputs": [],
   "source": [
    "#13. What can you do to save a programme from crashing if it encounters an error?\n",
    "#ans Use exception handling by putting our code within try and except block."
   ]
  },
  {
   "cell_type": "code",
   "execution_count": null,
   "id": "df2ddacd",
   "metadata": {},
   "outputs": [],
   "source": [
    "#14. What is the purpose of the try clause? What is the purpose of the except clause?\n",
    "#ans Try block allows us to put our code within it so that if it contains an error then it redirects our execution of code to except clause to handle the error therefore doesnot interrupts the execution of our code."
   ]
  }
 ],
 "metadata": {
  "kernelspec": {
   "display_name": "Python 3 (ipykernel)",
   "language": "python",
   "name": "python3"
  },
  "language_info": {
   "codemirror_mode": {
    "name": "ipython",
    "version": 3
   },
   "file_extension": ".py",
   "mimetype": "text/x-python",
   "name": "python",
   "nbconvert_exporter": "python",
   "pygments_lexer": "ipython3",
   "version": "3.9.7"
  }
 },
 "nbformat": 4,
 "nbformat_minor": 5
}
