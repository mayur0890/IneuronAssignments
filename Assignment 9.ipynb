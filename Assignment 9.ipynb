{
 "cells": [
  {
   "cell_type": "code",
   "execution_count": 1,
   "id": "968feca6",
   "metadata": {},
   "outputs": [],
   "source": [
    "#1. To what does a relative path refer?\n",
    "#ans Relative path is the path relative to the location of the current directory"
   ]
  },
  {
   "cell_type": "code",
   "execution_count": 2,
   "id": "71b7afc6",
   "metadata": {},
   "outputs": [],
   "source": [
    "#2. What does an absolute path start with your operating system?\n",
    "#ans it start with root directory (/)"
   ]
  },
  {
   "cell_type": "code",
   "execution_count": 3,
   "id": "f8e166e0",
   "metadata": {},
   "outputs": [],
   "source": [
    "#3. What do the functions os.getcwd() and os.chdir() do?\n",
    "#ans os.getcwd() returns the path to the current working directory whereas\n",
    "#    os.chdir() is used to change to another directory by providing absolute/relative path "
   ]
  },
  {
   "cell_type": "code",
   "execution_count": 4,
   "id": "42083be1",
   "metadata": {},
   "outputs": [],
   "source": [
    "#4. What are the . and .. folders?\n",
    "#ans .. parent folder and . current folder"
   ]
  },
  {
   "cell_type": "code",
   "execution_count": 11,
   "id": "25acb4ed",
   "metadata": {},
   "outputs": [],
   "source": [
    "#5. In C:\\bacon\\eggs\\spam.txt, which part is the dir name, and which part is the base name?\n",
    "#ans C:\\bacon\\eggs is dir path and eggs is dir name and spam.txt is the base name"
   ]
  },
  {
   "cell_type": "code",
   "execution_count": 16,
   "id": "d09485ca",
   "metadata": {},
   "outputs": [],
   "source": [
    "#6. What are the three “mode” arguments that can be passed to the open() function?\n",
    "#ans r - read mode , w - write mode and a - append mode"
   ]
  },
  {
   "cell_type": "code",
   "execution_count": 17,
   "id": "49a3d58c",
   "metadata": {},
   "outputs": [],
   "source": [
    "#7. What happens if an existing file is opened in write mode?\n",
    "#ans the file is treated as a new empty file."
   ]
  },
  {
   "cell_type": "code",
   "execution_count": 18,
   "id": "4e5734e1",
   "metadata": {},
   "outputs": [],
   "source": [
    "#8. How do you tell the difference between read() and readlines()?\n",
    "#ans read() will read the whole file at once and then would print whereas readline() will read the file and print that line by line."
   ]
  },
  {
   "cell_type": "code",
   "execution_count": null,
   "id": "6347ccbc",
   "metadata": {},
   "outputs": [],
   "source": [
    "#9.What data structure does a shelf value resemble?\n",
    "#ans A shelf value resembles a dictionary value; it has keys and values, along with keys() and values() methods that work similarly to the dictionary methods of the same names."
   ]
  }
 ],
 "metadata": {
  "kernelspec": {
   "display_name": "Python 3 (ipykernel)",
   "language": "python",
   "name": "python3"
  },
  "language_info": {
   "codemirror_mode": {
    "name": "ipython",
    "version": 3
   },
   "file_extension": ".py",
   "mimetype": "text/x-python",
   "name": "python",
   "nbconvert_exporter": "python",
   "pygments_lexer": "ipython3",
   "version": "3.10.3"
  }
 },
 "nbformat": 4,
 "nbformat_minor": 5
}
